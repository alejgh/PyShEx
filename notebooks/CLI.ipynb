{
 "cells": [
  {
   "cell_type": "markdown",
   "metadata": {
    "collapsed": true
   },
   "source": [
    "# PyShEx command line usage \n",
    "## Installation"
   ]
  },
  {
   "cell_type": "code",
   "execution_count": 6,
   "metadata": {},
   "outputs": [],
   "source": [
    "from pyshex.shex_evaluator import evaluate_cli as shexeval"
   ]
  },
  {
   "cell_type": "code",
   "execution_count": 7,
   "metadata": {},
   "outputs": [
    {
     "name": "stdout",
     "output_type": "stream",
     "text": [
      "usage: shexeval [-h] [-f FORMAT] [-s START] [-ut] [-sp STARTPREDICATE]\n",
      "                [-fn FOCUS] [-A] [-d] [-ss] [-cf] [-sq SPARQL] [-se]\n",
      "                [--stopafter STOPAFTER]\n",
      "                rdf shex\n",
      "\n",
      "positional arguments:\n",
      "  rdf                   Input RDF file or SPARQL endpoint if slurper or sparql\n",
      "                        options\n",
      "  shex                  ShEx specification\n",
      "\n",
      "optional arguments:\n",
      "  -h, --help            show this help message and exit\n",
      "  -f FORMAT, --format FORMAT\n",
      "                        Input RDF Format\n",
      "  -s START, --start START\n",
      "                        Start shape. If absent use ShEx start node.\n",
      "  -ut, --usetype        Start shape is rdf:type of focus\n",
      "  -sp STARTPREDICATE, --startpredicate STARTPREDICATE\n",
      "                        Start shape is object of this predicate\n",
      "  -fn FOCUS, --focus FOCUS\n",
      "                        RDF focus node\n",
      "  -A, --allsubjects     Evaluate all non-bnode subjects in the graph\n",
      "  -d, --debug           Add debug output\n",
      "  -ss, --slurper        Use SPARQL slurper graph\n",
      "  -cf, --flattener      Use RDF Collections flattener graph\n",
      "  -sq SPARQL, --sparql SPARQL\n",
      "                        SPARQL query to generate focus nodes\n",
      "  -se, --stoponerror    Stop on an error\n",
      "  --stopafter STOPAFTER\n",
      "                        Stop after N nodes\n"
     ]
    },
    {
     "ename": "SystemExit",
     "evalue": "0",
     "output_type": "error",
     "traceback": [
      "An exception has occurred, use %tb to see the full traceback.\n",
      "\u001b[0;31mSystemExit\u001b[0m\u001b[0;31m:\u001b[0m 0\n"
     ]
    }
   ],
   "source": [
    "shexeval(\"-h\", prog=\"shexeval\")"
   ]
  },
  {
   "cell_type": "markdown",
   "metadata": {},
   "source": [
    "## Validate FHIR instance\n",
    "###  f205-egfr passes"
   ]
  },
  {
   "cell_type": "code",
   "execution_count": 25,
   "metadata": {},
   "outputs": [
    {
     "data": {
      "text/plain": [
       "0"
      ]
     },
     "execution_count": 25,
     "metadata": {},
     "output_type": "execute_result"
    }
   ],
   "source": [
    "shexeval(\"http://build.fhir.org/observation-example-f205-egfr.ttl \"\n",
    "         \"http://build.fhir.org/observation.shex \"\n",
    "         \"-fn http://hl7.org/fhir/Observation/f205 -s http://hl7.org/fhir/shape/Observation\")"
   ]
  },
  {
   "cell_type": "markdown",
   "metadata": {},
   "source": [
    "### haplotype2 fails (`status [value=\"unknown\"]` is not a valid status)"
   ]
  },
  {
   "cell_type": "code",
   "execution_count": 26,
   "metadata": {},
   "outputs": [
    {
     "name": "stdout",
     "output_type": "stream",
     "text": [
      "Errors:\n",
      "  Focus: http://hl7.org/fhir/Observation/example-haplotype2\n",
      "  Start: http://hl7.org/fhir/shape/Observation\n",
      "  Reason:   Datatype constraint (http://www.w3.org/2001/XMLSchema#string) on BNode\n"
     ]
    },
    {
     "data": {
      "text/plain": [
       "1"
      ]
     },
     "execution_count": 26,
     "metadata": {},
     "output_type": "execute_result"
    }
   ],
   "source": [
    "shexeval(\"http://build.fhir.org/observation-example-haplotype2.ttl \"\n",
    "         \"http://build.fhir.org/observation.shex \"\n",
    "         \"-fn http://hl7.org/fhir/Observation/example-haplotype2 -s http://hl7.org/fhir/shape/Observation\")"
   ]
  },
  {
   "cell_type": "code",
   "execution_count": null,
   "metadata": {},
   "outputs": [],
   "source": []
  }
 ],
 "metadata": {
  "kernelspec": {
   "display_name": "Python 3",
   "language": "python",
   "name": "python3"
  },
  "language_info": {
   "codemirror_mode": {
    "name": "ipython",
    "version": 3
   },
   "file_extension": ".py",
   "mimetype": "text/x-python",
   "name": "python",
   "nbconvert_exporter": "python",
   "pygments_lexer": "ipython3",
   "version": "3.7.2"
  }
 },
 "nbformat": 4,
 "nbformat_minor": 1
}
