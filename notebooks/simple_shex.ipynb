{
 "cells": [
  {
   "cell_type": "code",
   "execution_count": 2,
   "metadata": {
    "collapsed": true
   },
   "outputs": [
    {
     "name": "stdout",
     "output_type": "stream",
     "text": [
      "Valid: True\n{\n   \"@context\": \"http://www.w3.org/ns/shex.jsonld\",\n   \"shapes\": [\n      {\n         \"id\": \"http://a.example/S1\",\n         \"expression\": {\n            \"predicate\": \"http://a.example/p1\",\n            \"valueExpr\": {\n               \"values\": [\n                  \"http://a.example/o1\"\n               ],\n               \"type\": \"NodeConstraint\"\n            },\n            \"type\": \"TripleConstraint\"\n         },\n         \"type\": \"Shape\"\n      }\n   ],\n   \"type\": \"Schema\"\n}\nCONFORMS!\n"
     ]
    }
   ],
   "source": [
    "from ShExJSG import Schema\n",
    "from ShExJSG.ShExJ import Shape, IRIREF, TripleConstraint, NodeConstraint\n",
    "from rdflib import Namespace, Graph\n",
    "from pyshex.evaluate import evaluate\n",
    "\n",
    "EX = Namespace(\"http://a.example/\")\n",
    "\n",
    "schema = Schema()\n",
    "schema.shapes = [Shape(id=IRIREF(EX.S1),\n",
    "                       expression=TripleConstraint(predicate=IRIREF(EX.p1),\n",
    "                                                   valueExpr=NodeConstraint(values=[IRIREF(EX.o1)])))\n",
    "                 ]\n",
    "print(f\"Valid: {schema._is_valid()}\")\n",
    "print(f\"{schema._as_json_dumps()}\")\n",
    "\n",
    "g = Graph()\n",
    "g.add((EX.s1, EX.p1, EX.o1))\n",
    "\n",
    "if evaluate(g, schema, focus=EX.s1, start=EX.S1)[0]:\n",
    "    print(\"CONFORMS!\")\n",
    "else:\n",
    "    print(\"** ERROR\")\n",
    "\n",
    "\n",
    "\n"
   ]
  },
  {
   "cell_type": "code",
   "execution_count": 3,
   "metadata": {},
   "outputs": [],
   "source": []
  },
  {
   "cell_type": "code",
   "execution_count": null,
   "metadata": {},
   "outputs": [],
   "source": []
  }
 ],
 "metadata": {
  "kernelspec": {
   "display_name": "Python 2",
   "language": "python",
   "name": "python2"
  },
  "language_info": {
   "codemirror_mode": {
    "name": "ipython",
    "version": 2
   },
   "file_extension": ".py",
   "mimetype": "text/x-python",
   "name": "python",
   "nbconvert_exporter": "python",
   "pygments_lexer": "ipython2",
   "version": "2.7.6"
  }
 },
 "nbformat": 4,
 "nbformat_minor": 0
}
