{
 "cells": [
  {
   "cell_type": "code",
   "execution_count": 2,
   "metadata": {
    "collapsed": true
   },
   "outputs": [
    {
     "name": "stdout",
     "output_type": "stream",
     "text": [
      "True\n{\n   \"@context\": \"http://www.w3.org/ns/shex.jsonld\",\n   \"start\": \"blabla\",\n   \"type\": \"Schema\"\n}\n"
     ]
    }
   ],
   "source": [
    "from ShExJSG import ShExJ\n",
    "\n",
    "shapeEx = ShExJ.Schema()\n",
    "shapeEx['@context'] = \"http://www.w3.org/ns/shex.jsonld\"\n",
    "shapeEx.start = \"blabla\"\n",
    "print(shapeEx._is_valid())\n",
    "print(shapeEx._as_json_dumps())"
   ]
  },
  {
   "cell_type": "code",
   "execution_count": null,
   "metadata": {},
   "outputs": [],
   "source": []
  }
 ],
 "metadata": {
  "kernelspec": {
   "display_name": "Python 2",
   "language": "python",
   "name": "python2"
  },
  "language_info": {
   "codemirror_mode": {
    "name": "ipython",
    "version": 2
   },
   "file_extension": ".py",
   "mimetype": "text/x-python",
   "name": "python",
   "nbconvert_exporter": "python",
   "pygments_lexer": "ipython2",
   "version": "2.7.6"
  }
 },
 "nbformat": 4,
 "nbformat_minor": 0
}
