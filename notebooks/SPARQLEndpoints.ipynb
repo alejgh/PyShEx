{
 "cells": [
  {
   "cell_type": "markdown",
   "metadata": {
    "collapsed": true
   },
   "source": [
    "# Using SPARQL Endpoints with PyShEx\n",
    "\n",
    "The '-ss' option tells `shex_evaluator` to reference SPARQL endpoint instead of a local RDF graph.  As ab example:\n",
    "\n",
    "```bash\n",
    "shexeval -ss  https://query.wikidata.org/sparql test_shape.shex\n",
    "```\n",
    "\n",
    "Would treat the *entire* contents of the Wikidata sparql endpoint as one huge graph.\n",
    "\n",
    "This is probably not what you want to do.  There are several options that can be used in its place:\n",
    "1.  Evaluate every non-bnode subject:\n",
    "\n",
    "    `shexeval -ss -A http://wifo5-04.informatik.uni-mannheim.de/drugbank/sparql test.shex`\n",
    "    \n",
    "    \n",
    "2. Evaluate all subjects that are declared to be a particular type:\n",
    "\n",
    "    `shexeval -ss -ut http://wifo5-04.informatik.uni-mannheim.de/drugbank/vocab/resource/class/Offer http://wifo5-04.informatik.uni-mannheim.de/drugbank/sparql test.shex`\n",
    "    \n",
    "    \n",
    "3. Evaluate all objects of a specific predicate:\n",
    "\n",
    "    `shexeval -ss -sp http://wifo5-04.informatik.uni-mannheim.de/drugbank/resource/drugbank/  http://wifo5-04.informatik.uni-mannheim.de/drugbank/sparql test.shex`\n",
    "    \n",
    "The most workable approach, however, is to use a SPARQL query to generate the focus nodes.  The query must yield a list of elements named `?item`:\n",
    "\n",
    "```bash\n",
    "> cat q1.sparql\n",
    "PREFIX rdf: <http://www.w3.org/1999/02/22-rdf-syntax-ns#>\n",
    "PREFIX vocabClass: <http://wifo5-04.informatik.uni-mannheim.de/drugbank/vocab/resource/class/>\n",
    "\n",
    "SELECT DISTINCT ?item WHERE {\n",
    "  ?item rdf:type vocabClass:Offer\n",
    "}\n",
    "LIMIT 10\n",
    ">\n",
    "```\n",
    "\n",
    "This query can then be used as input to the ShEx evaluator:\n",
    "    \n",
    "    `shexeval -sq q1.sparql http://wifo5-04.informatik.uni-mannheim.de/drugbank/sparql test.shex`\n",
    "    \n",
    "    "
   ]
  },
  {
   "cell_type": "markdown",
   "metadata": {},
   "source": [
    "## SPARQL Endpoints in Python"
   ]
  },
  {
   "cell_type": "code",
   "execution_count": 1,
   "metadata": {},
   "outputs": [],
   "source": [
    "!pip install PyShEx --upgrade -q"
   ]
  },
  {
   "cell_type": "code",
   "execution_count": 6,
   "metadata": {},
   "outputs": [
    {
     "name": "stdout",
     "output_type": "stream",
     "text": [
      "http://wifo5-04.informatik.uni-mannheim.de/drugbank/resource/drugs/DB00001: PASS\n",
      "http://wifo5-04.informatik.uni-mannheim.de/drugbank/resource/drugs/DB00002: PASS\n",
      "http://wifo5-04.informatik.uni-mannheim.de/drugbank/resource/drugs/DB00003: PASS\n",
      "http://wifo5-04.informatik.uni-mannheim.de/drugbank/resource/drugs/DB00004: PASS\n",
      "http://wifo5-04.informatik.uni-mannheim.de/drugbank/resource/drugs/DB00005: PASS\n",
      "http://wifo5-04.informatik.uni-mannheim.de/drugbank/resource/drugs/DB00006: PASS\n",
      "http://wifo5-04.informatik.uni-mannheim.de/drugbank/resource/drugs/DB00007: PASS\n",
      "http://wifo5-04.informatik.uni-mannheim.de/drugbank/resource/drugs/DB00008: PASS\n",
      "http://wifo5-04.informatik.uni-mannheim.de/drugbank/resource/drugs/DB00009: PASS\n",
      "http://wifo5-04.informatik.uni-mannheim.de/drugbank/resource/drugs/DB00010: PASS\n",
      "http://wifo5-04.informatik.uni-mannheim.de/drugbank/resource/drugs/DB00011: FAIL: ---> Testing http://wifo5-04.informatik.uni-mannheim.de/drugbank/resource/drugs/DB00011 against http://example.org/t1/S1 \n",
      "    1 triples less than {3,3}\n",
      "http://wifo5-04.informatik.uni-mannheim.de/drugbank/resource/drugs/DB00012: PASS\n",
      "http://wifo5-04.informatik.uni-mannheim.de/drugbank/resource/drugs/DB00013: PASS\n",
      "http://wifo5-04.informatik.uni-mannheim.de/drugbank/resource/drugs/DB00014: PASS\n",
      "http://wifo5-04.informatik.uni-mannheim.de/drugbank/resource/drugs/DB00015: PASS\n",
      "http://wifo5-04.informatik.uni-mannheim.de/drugbank/resource/drugs/DB00016: PASS\n",
      "http://wifo5-04.informatik.uni-mannheim.de/drugbank/resource/drugs/DB00017: PASS\n",
      "http://wifo5-04.informatik.uni-mannheim.de/drugbank/resource/drugs/DB00018: FAIL: ---> Testing http://wifo5-04.informatik.uni-mannheim.de/drugbank/resource/drugs/DB00018 against http://example.org/t1/S1 \n",
      "    1 triples less than {3,3}\n",
      "http://wifo5-04.informatik.uni-mannheim.de/drugbank/resource/drugs/DB00019: PASS\n",
      "http://wifo5-04.informatik.uni-mannheim.de/drugbank/resource/drugs/DB00020: PASS\n"
     ]
    }
   ],
   "source": [
    "from sparql_slurper import SlurpyGraph\n",
    "\n",
    "from pyshex.shex_evaluator import ShExEvaluator\n",
    "from pyshex.utils.sparql_query import SPARQLQuery\n",
    "\n",
    "# SPARQL Endpoint\n",
    "endpoint = 'http://wifo5-04.informatik.uni-mannheim.de/drugbank/sparql'\n",
    "\n",
    "# SPARQL Query\n",
    "sparql = \"\"\"\n",
    "PREFIX rdf: <http://www.w3.org/1999/02/22-rdf-syntax-ns#>\n",
    "PREFIX vocabClass: <http://wifo5-04.informatik.uni-mannheim.de/drugbank/vocab/resource/class/>\n",
    "\n",
    "SELECT DISTINCT ?item WHERE {\n",
    "  ?item rdf:type vocabClass:Offer\n",
    "}\n",
    "LIMIT 20\n",
    "\"\"\"\n",
    "\n",
    "# ShEx Expression\n",
    "shex = \"\"\"\n",
    "PREFIX drugbank: <http://wifo5-04.informatik.uni-mannheim.de/drugbank/resource/drugbank/>\n",
    "PREFIX foaf: <http://xmlns.com/foaf/0.1/>\n",
    "PREFIX xsd: <http://www.w3.org/2001/XMLSchema#>\n",
    "PREFIX : <http://example.org/t1/>\n",
    "\n",
    "START=@:S1\n",
    "\n",
    ":S1 {foaf:page IRI{3} ;                     # one or more foaf pages\n",
    "     drugbank:limsDrugId xsd:string       # ane exactly one drug id\n",
    "}\"\"\"\n",
    "\n",
    "\n",
    "result = ShExEvaluator(SlurpyGraph(endpoint),\n",
    "                       shex,\n",
    "                       SPARQLQuery(endpoint, sparql).focus_nodes()).evaluate()\n",
    "for r in result:\n",
    "    print(f\"{r.focus}: \", end=\"\")\n",
    "    if not r.result:\n",
    "        print(f\"FAIL: {r.reason}\")\n",
    "    else:\n",
    "        print(\"PASS\")\n"
   ]
  },
  {
   "cell_type": "code",
   "execution_count": null,
   "metadata": {},
   "outputs": [],
   "source": []
  }
 ],
 "metadata": {
  "kernelspec": {
   "display_name": "Python 3",
   "language": "python",
   "name": "python3"
  },
  "language_info": {
   "codemirror_mode": {
    "name": "ipython",
    "version": 3
   },
   "file_extension": ".py",
   "mimetype": "text/x-python",
   "name": "python",
   "nbconvert_exporter": "python",
   "pygments_lexer": "ipython3",
   "version": "3.7.1"
  }
 },
 "nbformat": 4,
 "nbformat_minor": 1
}
