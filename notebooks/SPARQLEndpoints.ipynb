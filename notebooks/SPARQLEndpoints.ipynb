{
 "cells": [
  {
   "cell_type": "markdown",
   "metadata": {
    "collapsed": true
   },
   "source": [
    "# Using SPARQL Endpoints with PyShEx\n",
    "\n",
    "The '-ss' option tells `shex_evaluator` to reference SPARQL endpoint instead of a local RDF graph.  As ab example:\n",
    "\n",
    "```bash\n",
    "shexeval -ss  https://query.wikidata.org/sparql test_shape.shex\n",
    "```\n",
    "\n",
    "Would treat the *entire* contents of the Wikidata sparql endpoint as one huge graph.\n",
    "\n",
    "This is probably not what you want to do.  There are several options that can be used in its place:\n",
    "1.  Evaluate every non-bnode subject:\n",
    "\n",
    "    `shexeval -ss -A http://wifo5-04.informatik.uni-mannheim.de/drugbank/sparql test.shex`\n",
    "    \n",
    "    \n",
    "2. Evaluate all subjects that are declared to be a particular type:\n",
    "\n",
    "    `shexeval -ss -ut http://wifo5-04.informatik.uni-mannheim.de/drugbank/vocab/resource/class/Offer http://wifo5-04.informatik.uni-mannheim.de/drugbank/sparql test.shex`\n",
    "    \n",
    "    \n",
    "3. Evaluate all objects of a specific predicate:\n",
    "\n",
    "    `shexeval -ss -sp http://wifo5-04.informatik.uni-mannheim.de/drugbank/resource/drugbank/  http://wifo5-04.informatik.uni-mannheim.de/drugbank/sparql test.shex`\n",
    "    \n",
    "The most workable approach, however, is to use a SPARQL query to generate the focus nodes.  The query must yield a list of elements named `?item`:\n",
    "\n",
    "```bash\n",
    "> cat q1.sparql\n",
    "PREFIX rdf: <http://www.w3.org/1999/02/22-rdf-syntax-ns#>\n",
    "PREFIX vocabClass: <http://wifo5-04.informatik.uni-mannheim.de/drugbank/vocab/resource/class/>\n",
    "\n",
    "SELECT DISTINCT ?item WHERE {\n",
    "  ?item rdf:type vocabClass:Offer\n",
    "}\n",
    "LIMIT 10\n",
    ">\n",
    "```\n",
    "\n",
    "This query can then be used as input to the ShEx evaluator:\n",
    "    \n",
    "    `shexeval -sq q1.sparql http://wifo5-04.informatik.uni-mannheim.de/drugbank/sparql test.shex`\n",
    "    \n",
    "    "
   ]
  },
  {
   "cell_type": "markdown",
   "metadata": {},
   "source": [
    "## SPARQL Endpoints in Python"
   ]
  },
  {
   "cell_type": "code",
   "execution_count": 1,
   "metadata": {},
   "outputs": [
    {
     "name": "stdout",
     "output_type": "stream",
     "text": [
      "Obtaining file:///Users/solbrig/git/hsolbrig/PyShEx\n",
      "Requirement already satisfied, skipping upgrade: ShExJSG>=0.5.6 in /Library/Frameworks/Python.framework/Versions/3.7/lib/python3.7/site-packages (from PyShEx==0.6.0) (0.5.6)\n",
      "Requirement already satisfied, skipping upgrade: PyShExC>=0.5.4 in /Library/Frameworks/Python.framework/Versions/3.7/lib/python3.7/site-packages (from PyShEx==0.6.0) (0.5.4)\n",
      "Requirement already satisfied, skipping upgrade: rdflib>=4.2.2 in /Library/Frameworks/Python.framework/Versions/3.7/lib/python3.7/site-packages (from PyShEx==0.6.0) (4.2.2)\n",
      "Requirement already satisfied, skipping upgrade: rdflib-jsonld>=0.4.0 in /Library/Frameworks/Python.framework/Versions/3.7/lib/python3.7/site-packages (from PyShEx==0.6.0) (0.4.0)\n",
      "Requirement already satisfied, skipping upgrade: requests in /Library/Frameworks/Python.framework/Versions/3.7/lib/python3.7/site-packages (from PyShEx==0.6.0) (2.21.0)\n",
      "Requirement already satisfied, skipping upgrade: urllib3 in /Library/Frameworks/Python.framework/Versions/3.7/lib/python3.7/site-packages (from PyShEx==0.6.0) (1.24.1)\n",
      "Requirement already satisfied, skipping upgrade: sparql_slurper>=0.1.3 in /Library/Frameworks/Python.framework/Versions/3.7/lib/python3.7/site-packages (from PyShEx==0.6.0) (0.1.3)\n",
      "Requirement already satisfied, skipping upgrade: CFGraph>=0.2.1 in /Library/Frameworks/Python.framework/Versions/3.7/lib/python3.7/site-packages (from PyShEx==0.6.0) (0.2.1)\n",
      "Requirement already satisfied, skipping upgrade: SPARQLWrapper>=1.8.2 in /Library/Frameworks/Python.framework/Versions/3.7/lib/python3.7/site-packages (from PyShEx==0.6.0) (1.8.2)\n",
      "Requirement already satisfied, skipping upgrade: PyJSG>=0.9.0 in /Library/Frameworks/Python.framework/Versions/3.7/lib/python3.7/site-packages (from ShExJSG>=0.5.6->PyShEx==0.6.0) (0.9.0)\n",
      "Requirement already satisfied, skipping upgrade: antlr4-python3-runtime>=4.7.1 in /Library/Frameworks/Python.framework/Versions/3.7/lib/python3.7/site-packages (from PyShExC>=0.5.4->PyShEx==0.6.0) (4.7.1)\n",
      "Requirement already satisfied, skipping upgrade: jsonasobj>=1.2.1 in /Library/Frameworks/Python.framework/Versions/3.7/lib/python3.7/site-packages (from PyShExC>=0.5.4->PyShEx==0.6.0) (1.2.1)\n",
      "Requirement already satisfied, skipping upgrade: isodate in /Library/Frameworks/Python.framework/Versions/3.7/lib/python3.7/site-packages (from rdflib>=4.2.2->PyShEx==0.6.0) (0.6.0)\n",
      "Requirement already satisfied, skipping upgrade: pyparsing in /Library/Frameworks/Python.framework/Versions/3.7/lib/python3.7/site-packages (from rdflib>=4.2.2->PyShEx==0.6.0) (2.3.0)\n",
      "Requirement already satisfied, skipping upgrade: certifi>=2017.4.17 in /Library/Frameworks/Python.framework/Versions/3.7/lib/python3.7/site-packages (from requests->PyShEx==0.6.0) (2018.10.15)\n",
      "Requirement already satisfied, skipping upgrade: idna<2.9,>=2.5 in /Library/Frameworks/Python.framework/Versions/3.7/lib/python3.7/site-packages (from requests->PyShEx==0.6.0) (2.7)\n",
      "Requirement already satisfied, skipping upgrade: chardet<3.1.0,>=3.0.2 in /Library/Frameworks/Python.framework/Versions/3.7/lib/python3.7/site-packages (from requests->PyShEx==0.6.0) (3.0.4)\n",
      "Requirement already satisfied, skipping upgrade: six in /Library/Frameworks/Python.framework/Versions/3.7/lib/python3.7/site-packages (from isodate->rdflib>=4.2.2->PyShEx==0.6.0) (1.11.0)\n",
      "Installing collected packages: PyShEx\n",
      "  Found existing installation: PyShEx 0.6.0\n",
      "    Uninstalling PyShEx-0.6.0:\n",
      "      Successfully uninstalled PyShEx-0.6.0\n",
      "  Running setup.py develop for PyShEx\n",
      "Successfully installed PyShEx\n"
     ]
    }
   ],
   "source": [
    "!pip install PyShEx --upgrade -q"
   ]
  },
  {
   "cell_type": "code",
   "execution_count": 2,
   "metadata": {},
   "outputs": [
    {
     "name": "stdout",
     "output_type": "stream",
     "text": [
      "http://wifo5-04.informatik.uni-mannheim.de/drugbank/resource/drugs/DB00001: PASS\n",
      "http://wifo5-04.informatik.uni-mannheim.de/drugbank/resource/drugs/DB00002: PASS\n",
      "http://wifo5-04.informatik.uni-mannheim.de/drugbank/resource/drugs/DB00003: PASS\n",
      "http://wifo5-04.informatik.uni-mannheim.de/drugbank/resource/drugs/DB00004: PASS\n",
      "http://wifo5-04.informatik.uni-mannheim.de/drugbank/resource/drugs/DB00005: PASS\n",
      "http://wifo5-04.informatik.uni-mannheim.de/drugbank/resource/drugs/DB00006: PASS\n",
      "http://wifo5-04.informatik.uni-mannheim.de/drugbank/resource/drugs/DB00007: PASS\n",
      "http://wifo5-04.informatik.uni-mannheim.de/drugbank/resource/drugs/DB00008: PASS\n",
      "http://wifo5-04.informatik.uni-mannheim.de/drugbank/resource/drugs/DB00009: PASS\n",
      "http://wifo5-04.informatik.uni-mannheim.de/drugbank/resource/drugs/DB00010: PASS\n"
     ]
    }
   ],
   "source": [
    "from sparql_slurper import SlurpyGraph\n",
    "\n",
    "from pyshex.shex_evaluator import ShExEvaluator\n",
    "from pyshex.utils.sparql_query import SPARQLQuery\n",
    "\n",
    "# SPARQL Endpoint\n",
    "endpoint = 'http://wifo5-04.informatik.uni-mannheim.de/drugbank/sparql'\n",
    "\n",
    "# SPARQL Query\n",
    "sparql = \"\"\"\n",
    "PREFIX rdf: <http://www.w3.org/1999/02/22-rdf-syntax-ns#>\n",
    "PREFIX vocabClass: <http://wifo5-04.informatik.uni-mannheim.de/drugbank/vocab/resource/class/>\n",
    "\n",
    "SELECT DISTINCT ?item WHERE {\n",
    "  ?item rdf:type vocabClass:Offer\n",
    "}\n",
    "LIMIT 10\n",
    "\"\"\"\n",
    "\n",
    "# ShEx Expression\n",
    "shex = \"\"\"\n",
    "PREFIX drugbank: <http://wifo5-04.informatik.uni-mannheim.de/drugbank/resource/drugbank/>\n",
    "PREFIX foaf: <http://xmlns.com/foaf/0.1/>\n",
    "PREFIX xsd: <http://www.w3.org/2001/XMLSchema#>\n",
    "PREFIX : <http://example.org/t1/>\n",
    "\n",
    "START=@:S1\n",
    "\n",
    ":S1 {foaf:page IRI+ ;                     # one or more foaf pages\n",
    "     drugbank:limsDrugId xsd:string       # ane exactly one drug id\n",
    "}\"\"\"\n",
    "\n",
    "\n",
    "result = ShExEvaluator(SlurpyGraph(endpoint),\n",
    "                       shex,\n",
    "                       SPARQLQuery(endpoint, sparql).focus_nodes()).evaluate()\n",
    "for r in result:\n",
    "    print(f\"{r.focus}: \", end=\"\")\n",
    "    if not r.result:\n",
    "        print(f\"FAIL: {r.reason}\")\n",
    "    else:\n",
    "        print(\"PASS\")\n"
   ]
  },
  {
   "cell_type": "code",
   "execution_count": null,
   "metadata": {},
   "outputs": [],
   "source": []
  }
 ],
 "metadata": {
  "kernelspec": {
   "display_name": "Python 3",
   "language": "python",
   "name": "python3"
  },
  "language_info": {
   "codemirror_mode": {
    "name": "ipython",
    "version": 3
   },
   "file_extension": ".py",
   "mimetype": "text/x-python",
   "name": "python",
   "nbconvert_exporter": "python",
   "pygments_lexer": "ipython3",
   "version": "3.7.1"
  }
 },
 "nbformat": 4,
 "nbformat_minor": 1
}
