{
 "cells": [
  {
   "cell_type": "code",
   "execution_count": 35,
   "metadata": {
    "collapsed": true
   },
   "outputs": [],
   "source": [
    "from typing import Optional\n",
    "from pyshex import ShExEvaluator\n",
    "import requests\n",
    "from rdflib import Namespace"
   ]
  },
  {
   "cell_type": "code",
   "execution_count": 36,
   "metadata": {
    "collapsed": true
   },
   "outputs": [],
   "source": [
    "def fetch_uri(uri: str) -> Optional[str]:\n",
    "    print(f\"Fetching: {uri}...\", end=\"\")\n",
    "    req = requests.get(uri)\n",
    "    if not req.ok:\n",
    "        print(req.text)\n",
    "        return None\n",
    "    print(\"Done\")\n",
    "    return req.text"
   ]
  },
  {
   "cell_type": "code",
   "execution_count": 37,
   "metadata": {
    "collapsed": true
   },
   "outputs": [],
   "source": [
    "BASE = Namespace(\"https://www.w3.org/2017/10/bibframe-shex/\")"
   ]
  },
  {
   "cell_type": "code",
   "execution_count": 38,
   "metadata": {},
   "outputs": [
    {
     "name": "stdout",
     "output_type": "stream",
     "text": [
      "Fetching: https://www.w3.org/2017/10/bibframe-shex/book-small.shex...Done\n",
      "Fetching: https://www.w3.org/2017/10/bibframe-shex/book-small.ttl...Done\n",
      "PASS\n"
     ]
    }
   ],
   "source": [
    "shex = f\"BASE <{BASE}>\\n\" + fetch_uri(BASE['book-small.shex'])\n",
    "rdf = f\"@base <{BASE}> .\\n\" + fetch_uri(BASE['book-small.ttl'])\n",
    "\n",
    "results = ShExEvaluator().evaluate(rdf, shex, focus=BASE.samples9298996,start=BASE.Work)\n",
    "for r in results:\n",
    "    if r.result:\n",
    "        print(\"PASS\")\n",
    "    else:\n",
    "        print(f\"FAIL: {r.reason}\")"
   ]
  },
  {
   "cell_type": "code",
   "execution_count": null,
   "metadata": {
    "collapsed": true
   },
   "outputs": [],
   "source": []
  }
 ],
 "metadata": {
  "kernelspec": {
   "display_name": "Python 3",
   "language": "python",
   "name": "python3"
  },
  "language_info": {
   "codemirror_mode": {
    "name": "ipython",
    "version": 3
   },
   "file_extension": ".py",
   "mimetype": "text/x-python",
   "name": "python",
   "nbconvert_exporter": "python",
   "pygments_lexer": "ipython3",
   "version": "3.6.3"
  }
 },
 "nbformat": 4,
 "nbformat_minor": 2
}
